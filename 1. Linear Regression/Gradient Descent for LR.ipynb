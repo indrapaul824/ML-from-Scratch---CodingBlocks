{
 "cells": [
  {
   "cell_type": "markdown",
   "metadata": {},
   "source": [
    "# Gradient Descent for Linear Regression\n",
    "\n",
    "### Implementation of Gradient Descent Update rule for Linear Regression:\n",
    "\n",
    "Repeat untill convergence: {\n",
    "\n",
    "- $ \\theta_0 = \\theta_0 − η \\frac{1}{m} \\sum_{i=1}^{m}(h_θ(x^i)−y^i) $\n",
    " \n",
    "- $ \\theta_1 = \\theta_1 − η \\frac{1}{m} \\sum_{i=1}^{m}(h_θ(x^i)−y^i)x^i $\n",
    "}\n",
    "\n",
    "where, \n",
    "$\\theta = \\begin{bmatrix}\n",
    "  \\theta_0 & \\theta_1\\\\\n",
    "\\end{bmatrix}$ are y-intersept and slope respectively, $η$ = learning rate"
   ]
  },
  {
   "cell_type": "code",
   "execution_count": 1,
   "metadata": {},
   "outputs": [],
   "source": [
    "import numpy as np\n",
    "import pandas as pd\n",
    "import matplotlib.pyplot as plt"
   ]
  },
  {
   "cell_type": "code",
   "execution_count": 2,
   "metadata": {},
   "outputs": [],
   "source": [
    "def hypothesis(theta, x):\n",
    "    \"\"\" hypothesis function \"\"\"\n",
    "    # theta is a vector of size (n+1, 1)\n",
    "    return theta[0] + theta[1] * x\n",
    "\n",
    "def gradient(X, Y, theta):\n",
    "    \"\"\" gradient function \"\"\"\n",
    "    m = X.shape[0]\n",
    "    grad = np.zeros((2,))\n",
    "    for i in range(m):\n",
    "        y_ = hypothesis(theta, X[i])\n",
    "        x = X[i]\n",
    "        y = Y[i]\n",
    "        grad[0] += (y_ - y)\n",
    "        grad[1] += (y_ - y) * x\n",
    "    \n",
    "    return grad / m\n",
    "\n",
    "def error(X, Y, theta):\n",
    "    m = X.shape[0]\n",
    "    total_error = 0.0\n",
    "    for i in range(m):\n",
    "        y_ = hypothesis(theta, X[i])\n",
    "        y = Y[i]\n",
    "        total_error += (y_ - y) ** 2\n",
    "    \n",
    "    return total_error / m\n",
    "    \n",
    "\n",
    "def gradientDescent(X, Y, max_steps=100, learning_rate=0.1):\n",
    "    \n",
    "    theta = np.zeros((2,))\n",
    "    error_list = []\n",
    "    \n",
    "    for i in range(max_steps):\n",
    "        grad = gradient(X, Y, theta)\n",
    "        e = error(X, Y, theta)\n",
    "        error_list.append(e)\n",
    "        \n",
    "        # Update theta\n",
    "        theta[0] = theta[0] - learning_rate*grad[0]\n",
    "        theta[1] = theta[1] - learning_rate*grad[1]\n",
    "    \n",
    "    return theta, error_list"
   ]
  }
 ],
 "metadata": {
  "kernelspec": {
   "display_name": "Python 3.9.11 ('MLBasic')",
   "language": "python",
   "name": "python3"
  },
  "language_info": {
   "codemirror_mode": {
    "name": "ipython",
    "version": 3
   },
   "file_extension": ".py",
   "mimetype": "text/x-python",
   "name": "python",
   "nbconvert_exporter": "python",
   "pygments_lexer": "ipython3",
   "version": "3.9.11"
  },
  "orig_nbformat": 4,
  "vscode": {
   "interpreter": {
    "hash": "79b33de42393e8658fe28031336af3db23fa82ce3021389ada07706bf647e02e"
   }
  }
 },
 "nbformat": 4,
 "nbformat_minor": 2
}
