{
 "cells": [
  {
   "cell_type": "markdown",
   "metadata": {},
   "source": [
    "# Mini Batch Gradient Descent"
   ]
  },
  {
   "cell_type": "code",
   "execution_count": 1,
   "metadata": {},
   "outputs": [],
   "source": [
    "import numpy as np\n",
    "import matplotlib.pyplot as plt\n",
    "from sklearn.datasets import load_boston\n",
    "from sklearn.datasets import make_regression"
   ]
  },
  {
   "cell_type": "code",
   "execution_count": 2,
   "metadata": {},
   "outputs": [],
   "source": [
    "# Create a dataset\n",
    "X, y = make_regression(n_samples=10000, n_features=20, n_informative=20, noise=10, random_state=1)\n",
    "\n",
    "# Normalisation\n",
    "u = np.mean(X, axis=0)\n",
    "std = np.std(X, axis=0)\n",
    "X = (X - u) / std"
   ]
  },
  {
   "cell_type": "code",
   "execution_count": 3,
   "metadata": {},
   "outputs": [
    {
     "name": "stdout",
     "output_type": "stream",
     "text": [
      "(10000, 21) (10000,)\n"
     ]
    }
   ],
   "source": [
    "# Add a column of 1s for Vectorization\n",
    "\n",
    "ones = np.ones((X.shape[0], 1))\n",
    "X = np.hstack((ones, X))\n",
    "\n",
    "print(X.shape, y.shape)"
   ]
  },
  {
   "cell_type": "code",
   "execution_count": 6,
   "metadata": {},
   "outputs": [],
   "source": [
    "def hypothesis(X, theta):\n",
    "    return np.dot(X, theta)\n",
    "\n",
    "def error(X, y, theta):\n",
    "    m = X.shape[0]\n",
    "    y_ = hypothesis(X, theta)\n",
    "    e = np.sum((y_ - y)**2)\n",
    "    return e / m\n",
    "\n",
    "def gradient(X, y, theta):\n",
    "    m = X.shape[0]\n",
    "    y_ = hypothesis(X, theta)\n",
    "    grad = np.dot(X.T, (y_ - y))\n",
    "    return grad/m\n",
    "\n",
    "def R2_score(y_, y):\n",
    "    num = np.sum((y - y_)**2)\n",
    "    den = np.sum((y - y.mean())**2)\n",
    "    score = (1 - num/den)\n",
    "    return score*100"
   ]
  },
  {
   "cell_type": "code",
   "execution_count": 41,
   "metadata": {},
   "outputs": [],
   "source": [
    "def batch_gradient_descent(X, y, lr=0.01, max_iter=100):\n",
    "        \n",
    "    m, n = X.shape\n",
    "    theta = np.zeros((n,))\n",
    "    error_list = []\n",
    "    \n",
    "    for i in range(max_iter):\n",
    "        error_list.append(error(X, y, theta))\n",
    "        \n",
    "        # Batch Gradient Descent\n",
    "        grad = gradient(X, y, theta)\n",
    "        theta = theta - lr * grad\n",
    "    \n",
    "    y_ = hypothesis(X, theta)\n",
    "    print(\"R2 Score: \", R2_score(y_, y))\n",
    "    \n",
    "    return theta, error_list"
   ]
  },
  {
   "cell_type": "code",
   "execution_count": 45,
   "metadata": {},
   "outputs": [],
   "source": [
    "def mini_batch_gradient_descent(X, y, lr=0.01, max_iter=100, batch_size=200):\n",
    "   \n",
    "    \n",
    "    m, n = X.shape\n",
    "    theta = np.zeros((n,))\n",
    "    error_list = []\n",
    "    \n",
    "    data = np.hstack((X,y.reshape(-1, 1)))\n",
    "    m = data.shape[0]\n",
    "    total_batches = m // batch_size\n",
    "    \n",
    "    for i in range(max_iter):\n",
    "        \n",
    "        # Mini Batch Gradient Descent\n",
    "        np.random.shuffle(data)\n",
    "\n",
    "        \n",
    "        for batch in range(total_batches):\n",
    "            batch_data = data[batch*batch_size : (batch+1)*batch_size]\n",
    "            X_batch = batch_data[:, :-1]\n",
    "            y_batch = batch_data[:, -1]\n",
    "            \n",
    "            batch_gradient = gradient(X_batch, y_batch, theta)\n",
    "            theta = theta - lr * batch_gradient\n",
    "            \n",
    "        error_list.append(error(X, y, theta))\n",
    "            \n",
    "    \n",
    "    y_ = hypothesis(X, theta)\n",
    "    print(\"R2 Score: \", R2_score(y_, y))\n",
    "    \n",
    "    return theta, error_list"
   ]
  },
  {
   "cell_type": "code",
   "execution_count": 46,
   "metadata": {},
   "outputs": [
    {
     "name": "stdout",
     "output_type": "stream",
     "text": [
      "R2 Score:  86.5794985560494\n",
      "R2 Score:  99.84797862792519\n"
     ]
    }
   ],
   "source": [
    "theta, error_list = batch_gradient_descent(X, y)\n",
    "theta2, error_list2 = mini_batch_gradient_descent(X, y)"
   ]
  },
  {
   "cell_type": "code",
   "execution_count": 47,
   "metadata": {},
   "outputs": [
    {
     "data": {
      "image/png": "[encoded data removed]",
      "text/plain": [
       "<Figure size 720x504 with 1 Axes>"
      ]
     },
     "metadata": {},
     "output_type": "display_data"
    }
   ],
   "source": [
    "plt.figure(figsize=(10, 7))\n",
    "plt.plot(error_list)\n",
    "plt.plot(error_list2)\n",
    "plt.legend([\"Batch\", \"Mini-Batch\"], loc =\"upper right\")\n",
    "plt.show()"
   ]
  },
  {
   "cell_type": "code",
   "execution_count": null,
   "metadata": {},
   "outputs": [],
   "source": []
  }
 ],
 "metadata": {
  "kernelspec": {
   "display_name": "Python 3.9.11 ('MLBasic')",
   "language": "python",
   "name": "python3"
  },
  "language_info": {
   "codemirror_mode": {
    "name": "ipython",
    "version": 3
   },
   "file_extension": ".py",
   "mimetype": "text/x-python",
   "name": "python",
   "nbconvert_exporter": "python",
   "pygments_lexer": "ipython3",
   "version": "3.9.11"
  },
  "orig_nbformat": 4,
  "vscode": {
   "interpreter": {
    "hash": "79b33de42393e8658fe28031336af3db23fa82ce3021389ada07706bf647e02e"
   }
  }
 },
 "nbformat": 4,
 "nbformat_minor": 2
}
